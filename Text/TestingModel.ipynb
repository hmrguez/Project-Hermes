{
 "cells": [
  {
   "cell_type": "code",
   "execution_count": null,
   "metadata": {},
   "outputs": [],
   "source": [
    "import tensorflow as tf, pandas as pd, numpy as np\n",
    "from keras.preprocessing.text import Tokenizer\n",
    "from Cleaning import clean\n",
    "import io\n",
    "import json"
   ]
  },
  {
   "cell_type": "code",
   "execution_count": null,
   "metadata": {},
   "outputs": [],
   "source": [
    "classes = [\"toxic\", \"severe_toxic\", \"obscene\", \"threat\", \"insult\", \"identity_hate\"]\n",
    "train = pd.read_csv('Raw Datasets/train.csv', encoding='latin-1')"
   ]
  },
  {
   "cell_type": "code",
   "execution_count": null,
   "metadata": {},
   "outputs": [],
   "source": [
    "with open('tokenizer.json') as f:\n",
    "    data = json.load(f)\n",
    "    tokenizer = tf.keras.preprocessing.text.tokenizer_from_json(data)\n",
    "\n",
    "model = tf.keras.models.load_model('profanity_model.h5')"
   ]
  },
  {
   "cell_type": "code",
   "execution_count": null,
   "metadata": {},
   "outputs": [],
   "source": [
    "max_len = 100\n",
    "\n",
    "def encode(comment):\n",
    "    comment = clean(comment)\n",
    "    tempArray = [comment, 'das asda']\n",
    "    token = tokenizer.texts_to_sequences(tempArray)\n",
    "    token = tf.keras.preprocessing.sequence.pad_sequences(token, maxlen=max_len)\n",
    "    return token\n",
    "\n",
    "def predict(comment):\n",
    "    token = encode(comment)\n",
    "    result = model.predict(token)[0]\n",
    "    return result"
   ]
  },
  {
   "cell_type": "code",
   "execution_count": null,
   "metadata": {},
   "outputs": [],
   "source": [
    "comment = 'Today was a very productive day'\n",
    "result = predict(comment)\n",
    "\n",
    "print()\n",
    "\n",
    "for i in range(6):\n",
    "    print(classes[i],' -> ', result[i])"
   ]
  }
 ],
 "metadata": {
  "kernelspec": {
   "display_name": ".venv",
   "language": "python",
   "name": ".venv"
  },
  "language_info": {
   "codemirror_mode": {
    "name": "ipython",
    "version": 3
   },
   "file_extension": ".py",
   "mimetype": "text/x-python",
   "name": "python",
   "nbconvert_exporter": "python",
   "pygments_lexer": "ipython3",
   "version": "3.10.7"
  },
  "orig_nbformat": 4,
  "vscode": {
   "interpreter": {
    "hash": "b72ed0d123ef2321b1153794934a3eacbbe4f0536c2473c9c3514111c7ab171c"
   }
  }
 },
 "nbformat": 4,
 "nbformat_minor": 2
}
